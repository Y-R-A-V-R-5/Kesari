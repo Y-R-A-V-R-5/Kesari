{
 "cells": [
  {
   "cell_type": "code",
   "execution_count": 1,
   "id": "ec53c24f-9478-45fb-bded-abb5c9a83486",
   "metadata": {},
   "outputs": [],
   "source": [
    "import numpy as np\n",
    "import matplotlib.pyplot as plt\n",
    "from matplotlib import patches"
   ]
  },
  {
   "cell_type": "code",
   "execution_count": 2,
   "id": "7b92d5b9-4a70-4aa8-9856-618ed388ad1a",
   "metadata": {},
   "outputs": [],
   "source": [
    "import os, cv2\n",
    "from pathlib import Path\n",
    "from PIL import Image\n",
    "import albumentations as A"
   ]
  },
  {
   "cell_type": "code",
   "execution_count": 3,
   "id": "aa56add7-d15e-46fc-87e3-b1abbcaf4b5c",
   "metadata": {},
   "outputs": [],
   "source": [
    "from collections import defaultdict\n",
    "from tqdm import tqdm\n",
    "import random"
   ]
  },
  {
   "cell_type": "code",
   "execution_count": 4,
   "id": "7582dc5e-526d-491b-8647-488a57658d53",
   "metadata": {},
   "outputs": [],
   "source": [
    "# Paths to dataset directories\n",
    "project_root = Path.cwd().parent\n",
    "dataset_dir = project_root / 'dataset'"
   ]
  },
  {
   "cell_type": "code",
   "execution_count": 5,
   "id": "461918f6-4ec5-4e45-a058-c4ebdd4695fb",
   "metadata": {},
   "outputs": [],
   "source": [
    "# Training dataset specific paths\n",
    "train_dir = dataset_dir / 'train'\n",
    "train_raw_images_dir = train_dir / 'raw_images'\n",
    "train_aug_images_dir = train_dir / 'aug_images'\n",
    "train_aug_labels_dir = train_dir / 'aug_labels'\n",
    "train_raw_labels_dir = train_dir / 'raw_labels'"
   ]
  },
  {
   "cell_type": "code",
   "execution_count": 6,
   "id": "df5f968e-959a-4281-9100-10b40310bae5",
   "metadata": {},
   "outputs": [],
   "source": [
    "# Create directories if not exist\n",
    "train_aug_images_dir.mkdir(parents=True, exist_ok=True)\n",
    "train_aug_labels_dir.mkdir(parents=True, exist_ok=True)"
   ]
  },
  {
   "cell_type": "code",
   "execution_count": 7,
   "id": "19ba0adf-29ce-49dd-be38-db6672ed0772",
   "metadata": {},
   "outputs": [
    {
     "name": "stdout",
     "output_type": "stream",
     "text": [
      "Project Root: C:\\Users\\ADITHYA\\OneDrive\\Kesari\n",
      "Dataset Dir: C:\\Users\\ADITHYA\\OneDrive\\Kesari\\dataset\n",
      "Train Dir: C:\\Users\\ADITHYA\\OneDrive\\Kesari\\dataset\\train\n",
      "Train Raw Images Dir: C:\\Users\\ADITHYA\\OneDrive\\Kesari\\dataset\\train\\raw_images\n",
      "Train Aug Images Dir: C:\\Users\\ADITHYA\\OneDrive\\Kesari\\dataset\\train\\aug_images\n",
      "Train Aug Labels Dir: C:\\Users\\ADITHYA\\OneDrive\\Kesari\\dataset\\train\\aug_labels\n",
      "Train Raw Labels Dir: C:\\Users\\ADITHYA\\OneDrive\\Kesari\\dataset\\train\\raw_labels\n"
     ]
    }
   ],
   "source": [
    "print(f\"Project Root: {project_root}\")\n",
    "print(f\"Dataset Dir: {dataset_dir}\")\n",
    "print(f\"Train Dir: {train_dir}\")\n",
    "print(f\"Train Raw Images Dir: {train_raw_images_dir}\")\n",
    "print(f\"Train Aug Images Dir: {train_aug_images_dir}\")\n",
    "print(f\"Train Aug Labels Dir: {train_aug_labels_dir}\")\n",
    "print(f\"Train Raw Labels Dir: {train_raw_labels_dir}\")"
   ]
  },
  {
   "cell_type": "code",
   "execution_count": 11,
   "id": "fc334db5-d680-4596-ad7f-719de7a858e8",
   "metadata": {},
   "outputs": [],
   "source": [
    "def load_image_and_labels(image_path, label_path):\n",
    "    \"\"\"\n",
    "    Loads an image and its corresponding YOLO-format labels, converting\n",
    "    bounding boxes to pixel coordinates.\n",
    "\n",
    "    Args:\n",
    "        image_path (Path): Path to the image file.\n",
    "        label_path (Path): Path to the label file (YOLO format).\n",
    "\n",
    "    Returns:\n",
    "        tuple: A tuple containing:\n",
    "            - image (np.array): The loaded image.\n",
    "            - bboxes (list): A list of bounding boxes in [class_id, x_min, y_min, x_max, y_max] format.\n",
    "    \"\"\"\n",
    "    # Read the image\n",
    "    image = cv2.imread(str(image_path))\n",
    "    if image is None:\n",
    "        print(f\"Warning: Could not read image at {image_path}. Skipping.\")\n",
    "        return None, []\n",
    "\n",
    "    # Read the label file\n",
    "    bboxes = []\n",
    "    try:\n",
    "        with open(label_path, 'r') as file:\n",
    "            labels = file.readlines()\n",
    "\n",
    "        for label in labels:\n",
    "            parts = label.strip().split()\n",
    "            if len(parts) != 5:\n",
    "                print(f\"Warning: Malformed label line '{label.strip()}' in {label_path}. Skipping.\")\n",
    "                continue\n",
    "\n",
    "            class_id = int(parts[0])\n",
    "            x_center = float(parts[1])\n",
    "            y_center = float(parts[2])\n",
    "            width = float(parts[3])\n",
    "            height = float(parts[4])\n",
    "\n",
    "            # Convert from YOLO format to pixel coordinates (x_min, y_min, x_max, y_max)\n",
    "            # Ensure image.shape[1] (width) and image.shape[0] (height) are valid\n",
    "            img_h, img_w = image.shape[0], image.shape[1]\n",
    "            x_min = int((x_center - width / 2) * img_w)\n",
    "            y_min = int((y_center - height / 2) * img_h)\n",
    "            x_max = int((x_center + width / 2) * img_w)\n",
    "            y_max = int((y_center + height / 2) * img_h)\n",
    "\n",
    "            bboxes.append([class_id, x_min, y_min, x_max, y_max])\n",
    "    except FileNotFoundError:\n",
    "        print(f\"Warning: Label file not found at {label_path}. Proceeding with no bounding boxes for this image.\")\n",
    "    except Exception as e:\n",
    "        print(f\"Error reading label file {label_path}: {e}. Skipping bounding boxes for this image.\")\n",
    "\n",
    "    return image, bboxes"
   ]
  },
  {
   "cell_type": "code",
   "execution_count": 12,
   "id": "25e1c0cf-1b8c-4a50-b946-f555f4b36f62",
   "metadata": {},
   "outputs": [
    {
     "name": "stdout",
     "output_type": "stream",
     "text": [
      "Loading dataset...\n"
     ]
    },
    {
     "name": "stderr",
     "output_type": "stream",
     "text": [
      "Loading Images and Labels: 100%|████████████████████████████████████████████████████| 201/201 [00:01<00:00, 124.03it/s]"
     ]
    },
    {
     "name": "stdout",
     "output_type": "stream",
     "text": [
      "Loaded 201 images and their corresponding labels.\n"
     ]
    },
    {
     "name": "stderr",
     "output_type": "stream",
     "text": [
      "\n"
     ]
    }
   ],
   "source": [
    "# Load all images and corresponding labels\n",
    "image_paths = sorted(list(train_raw_images_dir.glob(\"*.jpg\")))\n",
    "label_paths = sorted(list(train_raw_labels_dir.glob(\"*.txt\")))\n",
    "\n",
    "# Ensure image and label paths are aligned\n",
    "# This is a crucial step if your file naming convention isn't strictly sequential.\n",
    "# A more robust approach would be to create a dictionary mapping image filenames to label paths.\n",
    "# For now, assuming names match and lists are sorted.\n",
    "if len(image_paths) != len(label_paths):\n",
    "    print(\"Warning: Number of images and label files do not match. Ensure proper alignment.\")\n",
    "    # You might want to implement more sophisticated matching here if filenames are different.\n",
    "\n",
    "dataset = []\n",
    "# Use tqdm for a progress bar while loading the dataset\n",
    "print(\"Loading dataset...\")\n",
    "for image_path, label_path in tqdm(zip(image_paths, label_paths), total=len(image_paths), desc=\"Loading Images and Labels\"):\n",
    "    image, bboxes = load_image_and_labels(image_path, label_path)\n",
    "    if image is not None: # Only append if image was loaded successfully\n",
    "        dataset.append((image, bboxes))\n",
    "\n",
    "print(f\"Loaded {len(dataset)} images and their corresponding labels.\")"
   ]
  },
  {
   "cell_type": "code",
   "execution_count": null,
   "id": "c252fb4a-b5b4-4d6c-b4a1-0a9f06fcdc14",
   "metadata": {},
   "outputs": [],
   "source": [
    "# Display 10 random images with bounding boxes\n",
    "num_images_to_display = min(10, len(dataset))\n",
    "if num_images_to_display > 0:\n",
    "    print(f\"\\nDisplaying {num_images_to_display} loaded images with bounding boxes:\")\n",
    "    random_indices = random.sample(range(len(dataset)), num_images_to_display)\n",
    "\n",
    "    plt.figure(figsize=(15, 10))\n",
    "    for i, idx in enumerate(random_indices):\n",
    "        image, bboxes = dataset[idx]\n",
    "\n",
    "        plt.subplot(2, 5, i + 1) # Adjust subplot grid based on num_images_to_display\n",
    "        plt.imshow(cv2.cvtColor(image, cv2.COLOR_BGR2RGB)) # Convert BGR to RGB for matplotlib\n",
    "\n",
    "        for bbox in bboxes:\n",
    "            class_id, x_min, y_min, x_max, y_max = bbox\n",
    "            # Draw rectangle\n",
    "            rect = plt.Rectangle((x_min, y_min), x_max - x_min, y_max - y_min,\n",
    "                                 fill=False, edgecolor='r', linewidth=2)\n",
    "            plt.gca().add_patch(rect)\n",
    "            # Add class ID text\n",
    "            plt.text(x_min, y_min - 5, f'Class: {class_id}',\n",
    "                     bbox=dict(facecolor='yellow', alpha=0.5), fontsize=8, color='black')\n",
    "\n",
    "        plt.title(f\"Image {idx + 1}\")\n",
    "        plt.axis('off')\n",
    "    plt.tight_layout()\n",
    "    plt.show()\n",
    "else:\n",
    "    print(\"No images were loaded to display.\")"
   ]
  },
  {
   "cell_type": "code",
   "execution_count": null,
   "id": "754875ea-9779-4324-9aba-00faac298953",
   "metadata": {},
   "outputs": [],
   "source": []
  }
 ],
 "metadata": {
  "kernelspec": {
   "display_name": "Python 3 (ipykernel)",
   "language": "python",
   "name": "python3"
  },
  "language_info": {
   "codemirror_mode": {
    "name": "ipython",
    "version": 3
   },
   "file_extension": ".py",
   "mimetype": "text/x-python",
   "name": "python",
   "nbconvert_exporter": "python",
   "pygments_lexer": "ipython3",
   "version": "3.12.4"
  }
 },
 "nbformat": 4,
 "nbformat_minor": 5
}
