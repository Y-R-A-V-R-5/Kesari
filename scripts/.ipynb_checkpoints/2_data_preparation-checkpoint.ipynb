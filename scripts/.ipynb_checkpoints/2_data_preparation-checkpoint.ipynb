{
 "cells": [
  {
   "cell_type": "code",
   "execution_count": null,
   "id": "8301e8e0-4d71-4235-9c6e-2ee599346b3f",
   "metadata": {},
   "outputs": [],
   "source": [
    "###==========================================\n",
    "# Section ~ 0: Importing Libraries\n",
    "###=========================================="
   ]
  },
  {
   "cell_type": "code",
   "execution_count": 1,
   "id": "fe3520d6-eb28-48f9-a371-ff0fcdd1cbc8",
   "metadata": {},
   "outputs": [],
   "source": [
    "import numpy as np\n",
    "import seaborn as sns\n",
    "import matplotlib.pyplot as plt"
   ]
  },
  {
   "cell_type": "code",
   "execution_count": 2,
   "id": "f351dd90-010e-4257-ba18-d4f6b06cb3a4",
   "metadata": {},
   "outputs": [],
   "source": [
    "import os\n",
    "from pathlib import Path\n",
    "import shutil\n",
    "import random\n",
    "from tqdm import tqdm"
   ]
  },
  {
   "cell_type": "code",
   "execution_count": 3,
   "id": "8378eaf6-ff49-49fd-894e-96f694812e7f",
   "metadata": {},
   "outputs": [],
   "source": [
    "from collections import Counter, defaultdict\n",
    "from itertools import combinations"
   ]
  },
  {
   "cell_type": "code",
   "execution_count": 4,
   "id": "5dec4a9a-5c38-4ad4-afa0-f95e895e6bcf",
   "metadata": {},
   "outputs": [],
   "source": [
    "from PIL import Image\n",
    "import yaml"
   ]
  },
  {
   "cell_type": "code",
   "execution_count": null,
   "id": "cd896491-e373-4dae-b532-314672e56e53",
   "metadata": {},
   "outputs": [],
   "source": [
    "###==========================================\n",
    "# Section ~ 1: Define Paths\n",
    "###=========================================="
   ]
  },
  {
   "cell_type": "code",
   "execution_count": 5,
   "id": "0182817f-254f-4652-92d5-5a6ee104052e",
   "metadata": {},
   "outputs": [
    {
     "data": {
      "text/plain": [
       "WindowsPath('C:/Users/ADITHYA/OneDrive/Kesari')"
      ]
     },
     "execution_count": 5,
     "metadata": {},
     "output_type": "execute_result"
    }
   ],
   "source": [
    "project_root = Path.cwd().parent\n",
    "project_root"
   ]
  },
  {
   "cell_type": "code",
   "execution_count": 19,
   "id": "11233c04-852e-446c-aa80-7289e4532c1c",
   "metadata": {},
   "outputs": [],
   "source": [
    "dataset_dir = project_root / 'dataset'\n",
    "raw_image_dir = dataset_dir / 'raw/images'\n",
    "raw_label_dir = dataset_dir / 'raw/labels'\n",
    "reports_figures_dir = project_root / 'reports/figures/2_data preparation'\n",
    "\n",
    "train_dir = dataset_dir / 'train'\n",
    "train_raw_images_dir = train_dir / 'raw_images'\n",
    "train_raw_labels_dir = train_dir / 'raw_labels'\n",
    "\n",
    "val_dir = dataset_dir / 'val'\n",
    "val_images_dir = val_dir / 'images'\n",
    "val_labels_dir = val_dir / 'labels'\n",
    "\n",
    "test_dir = dataset_dir / 'test'\n",
    "test_images_dir = test_dir / 'images'\n",
    "test_labels_dir = test_dir / 'labels'"
   ]
  },
  {
   "cell_type": "code",
   "execution_count": 13,
   "id": "38ef70cc-7b92-4535-b6d8-9abae74f83a8",
   "metadata": {},
   "outputs": [],
   "source": [
    "# Define subdirectories\n",
    "subfolders = [\"train\", \"valid\", \"test\"]\n",
    "\n",
    "# Create them\n",
    "for sub in subfolders:\n",
    "    (reports_figures_dir / sub).mkdir(parents=True, exist_ok=True)"
   ]
  },
  {
   "cell_type": "code",
   "execution_count": 15,
   "id": "07e93a29-afd5-4538-9fa4-0a032a794e4d",
   "metadata": {},
   "outputs": [],
   "source": [
    "train_report_dir = reports_figures_dir / \"train\"\n",
    "valid_report_dir = reports_figures_dir / \"valid\"\n",
    "test_report_dir = reports_figures_dir / \"test\""
   ]
  },
  {
   "cell_type": "code",
   "execution_count": null,
   "id": "c19ddfaf-153d-4925-b994-8a73125c1781",
   "metadata": {},
   "outputs": [],
   "source": [
    "###==========================================\n",
    "# Section ~ 2: Create Directories\n",
    "###=========================================="
   ]
  },
  {
   "cell_type": "code",
   "execution_count": 21,
   "id": "fc1ca597-47b5-4ed7-ab5d-697805fdc248",
   "metadata": {},
   "outputs": [],
   "source": [
    "all_dirs = [\n",
    "    train_raw_images_dir, train_raw_labels_dir,\n",
    "    val_images_dir, val_labels_dir,\n",
    "    test_images_dir, test_labels_dir,\n",
    "    reports_figures_dir\n",
    "]\n",
    "\n",
    "for d in all_dirs:\n",
    "    d.mkdir(parents=True, exist_ok=True)"
   ]
  },
  {
   "cell_type": "code",
   "execution_count": null,
   "id": "b4b1dcfc-c1fe-4735-a938-55fb5bb3361d",
   "metadata": {},
   "outputs": [],
   "source": [
    "###==========================================\n",
    "# Section ~ 3: Load Dataset\n",
    "###=========================================="
   ]
  },
  {
   "cell_type": "code",
   "execution_count": 23,
   "id": "f264773c-73b0-4c8c-999d-7cacb986f0cc",
   "metadata": {},
   "outputs": [],
   "source": [
    "def load_class_names_from_yaml(yaml_path: Path):\n",
    "    with open(yaml_path, 'r') as f:\n",
    "        data = yaml.safe_load(f)\n",
    "    class_names = data.get(\"names\", [])\n",
    "    return class_names"
   ]
  },
  {
   "cell_type": "code",
   "execution_count": 25,
   "id": "d93550b0-746b-4007-bd0c-9f587b1e1cc9",
   "metadata": {},
   "outputs": [],
   "source": [
    "# Usage\n",
    "data_yaml_path = project_root / \"config/data.yaml\"\n",
    "CLASS_NAMES = load_class_names_from_yaml(data_yaml_path)"
   ]
  },
  {
   "cell_type": "code",
   "execution_count": 27,
   "id": "19d30576-fa0a-41d1-af42-5e1fc1f919b7",
   "metadata": {},
   "outputs": [
    {
     "name": "stdout",
     "output_type": "stream",
     "text": [
      "Loaded 17 classes:\n",
      "['tree 1-2', 'tree 10-11', 'tree 11-12', 'tree 12-13', 'tree 13-14', 'tree 14-15', 'tree 15-16', 'tree 16-17', 'tree 17-18', 'tree 18-19', 'tree 2-3', 'tree 3-4', 'tree 4-5', 'tree 5-6', 'tree 6-7', 'tree 7-8', 'tree 9-10']\n"
     ]
    }
   ],
   "source": [
    "# Classes\n",
    "NUM_CLASSES = len(CLASS_NAMES)\n",
    "print(f\"Loaded {NUM_CLASSES} classes:\")\n",
    "print(CLASS_NAMES)"
   ]
  },
  {
   "cell_type": "code",
   "execution_count": 29,
   "id": "5f186060-acce-49e2-8af4-d2f27a0cefb5",
   "metadata": {},
   "outputs": [],
   "source": [
    "image_files = sorted(raw_image_dir.glob('*'))\n",
    "label_files = sorted(raw_label_dir.glob('*'))\n",
    "\n",
    "# Extract stem names (filename without extension)\n",
    "image_names = {img.stem for img in image_files}\n",
    "label_names = {lbl.stem for lbl in label_files}\n",
    "\n",
    "# Compare\n",
    "labeled = sorted(image_names & label_names)\n",
    "unlabeled = sorted(image_names - label_names)\n",
    "extra_labels = sorted(label_names - image_names)\n",
    "\n",
    "# Reporting\n",
    "total_images = len(image_names)\n",
    "total_labels = len(label_names)"
   ]
  },
  {
   "cell_type": "code",
   "execution_count": 33,
   "id": "0f2d58fe-afb3-4da0-a0ae-0f1eca207d28",
   "metadata": {},
   "outputs": [
    {
     "name": "stdout",
     "output_type": "stream",
     "text": [
      "----- Labeling Report -----\n",
      "\n",
      "  -- Total images: 302\n",
      "  -- Total label files: 301\n",
      "  -- Images with labels: 301 (99.67%)\n",
      "  -- Images without labels: 1 (0.33%)\n",
      "  -- Labels without corresponding images: 0\n"
     ]
    }
   ],
   "source": [
    "print(\"----- Labeling Report -----\\n\")\n",
    "print(f\"  -- Total images: {total_images}\")\n",
    "print(f\"  -- Total label files: {total_labels}\")\n",
    "print(f\"  -- Images with labels: {len(labeled)} ({(len(labeled)/total_images)*100:.2f}%)\")\n",
    "print(f\"  -- Images without labels: {len(unlabeled)} ({(len(unlabeled)/total_images)*100:.2f}%)\")\n",
    "print(f\"  -- Labels without corresponding images: {len(extra_labels)}\")"
   ]
  },
  {
   "cell_type": "code",
   "execution_count": null,
   "id": "0b5026e1-9a9e-4c29-ae34-b8bee21d0c51",
   "metadata": {},
   "outputs": [],
   "source": []
  }
 ],
 "metadata": {
  "kernelspec": {
   "display_name": "Python 3 (ipykernel)",
   "language": "python",
   "name": "python3"
  },
  "language_info": {
   "codemirror_mode": {
    "name": "ipython",
    "version": 3
   },
   "file_extension": ".py",
   "mimetype": "text/x-python",
   "name": "python",
   "nbconvert_exporter": "python",
   "pygments_lexer": "ipython3",
   "version": "3.12.4"
  }
 },
 "nbformat": 4,
 "nbformat_minor": 5
}
