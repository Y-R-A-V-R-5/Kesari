{
 "cells": [
  {
   "cell_type": "code",
   "execution_count": null,
   "id": "5d24f2ec-5a02-4115-8a19-77c76dca41d6",
   "metadata": {},
   "outputs": [],
   "source": [
    "###==================================\n",
    "### Section ~ 1: Importing Libraries\n",
    "###=================================="
   ]
  },
  {
   "cell_type": "code",
   "execution_count": 176,
   "id": "ac286687-3167-4dd9-8e08-4380ccd3c1d5",
   "metadata": {},
   "outputs": [],
   "source": [
    "from pathlib import Path\n",
    "from PIL import ImageFile\n",
    "import matplotlib.pyplot as plt"
   ]
  },
  {
   "cell_type": "code",
   "execution_count": 178,
   "id": "a81a3bc7-88b1-45a3-b61d-e488beb3d9b8",
   "metadata": {},
   "outputs": [],
   "source": [
    "import warnings\n",
    "warnings.filterwarnings('ignore')"
   ]
  },
  {
   "cell_type": "code",
   "execution_count": null,
   "id": "5cd564e7-b65a-440b-86d2-cae6b842889e",
   "metadata": {},
   "outputs": [],
   "source": [
    "###==================================\n",
    "### Section ~ 2: Project Root Setup\n",
    "### Description: Set a fixed project root directory\n",
    "###=================================="
   ]
  },
  {
   "cell_type": "code",
   "execution_count": 184,
   "id": "6aa232e9-af36-493d-9c57-27b0d523135c",
   "metadata": {},
   "outputs": [
    {
     "name": "stdout",
     "output_type": "stream",
     "text": [
      "Project Root: C:\\Users\\ADITHYA\\OneDrive\\Kesari\n"
     ]
    }
   ],
   "source": [
    "# --- Project Root Guessing ---\n",
    "try:\n",
    "    # This assumes the notebook is in Kesari/scripts/\n",
    "    project_root = Path.cwd()\n",
    "    if not (project_root).exists():\n",
    "        print(\"⚠️ Warning: Could not find 'config/data.yaml'. Please verify the project_root.\")\n",
    "        print(f\"Guessed project_root: {project_root}\")\n",
    "except Exception as e:\n",
    "    print(f\"Error finding project root: {e}\")\n",
    "    project_root = Path('.')\n",
    "\n",
    "print(f\"Project Root: {project_root}\")"
   ]
  },
  {
   "cell_type": "code",
   "execution_count": null,
   "id": "fb4c87c5-678b-4efb-85cc-21bdd779aa4f",
   "metadata": {},
   "outputs": [],
   "source": [
    "###===============================================================\n",
    "### Section ~ 3: Define Project Directory Structure\n",
    "### Description: Specify all subdirectories for the ML pipeline\n",
    "###==============================================================="
   ]
  },
  {
   "cell_type": "code",
   "execution_count": 82,
   "id": "437903b8-19d3-4ad5-95bc-eeff99f2b29c",
   "metadata": {},
   "outputs": [],
   "source": [
    "# --- Define Project Directories ---\n",
    "\n",
    "# Config\n",
    "config_dir = project_root / 'config'"
   ]
  },
  {
   "cell_type": "code",
   "execution_count": 84,
   "id": "27dc8ef5-28ca-4d63-97cc-753a6485ed1f",
   "metadata": {},
   "outputs": [],
   "source": [
    "# Dataset\n",
    "dataset_dir = project_root / 'dataset'"
   ]
  },
  {
   "cell_type": "code",
   "execution_count": 86,
   "id": "40cd155b-1bf6-4e02-998d-e2ae31f33f83",
   "metadata": {},
   "outputs": [],
   "source": [
    "# Raw Data\n",
    "raw_data_dir = dataset_dir / 'raw'\n",
    "raw_image_dir = raw_data_dir / 'images'\n",
    "raw_label_dir = raw_data_dir / 'labels'"
   ]
  },
  {
   "cell_type": "code",
   "execution_count": 88,
   "id": "d333e3c6-1a38-4372-b447-6e71970a594b",
   "metadata": {},
   "outputs": [],
   "source": [
    "# Train Data\n",
    "train_dir = dataset_dir / 'train'\n",
    "train_raw_images_dir = train_dir / 'raw_images'\n",
    "train_raw_labels_dir = train_dir / 'raw_labels'\n",
    "train_aug_images_dir = train_dir / 'aug_images'\n",
    "train_aug_labels_dir = train_dir / 'aug_labels'"
   ]
  },
  {
   "cell_type": "code",
   "execution_count": 90,
   "id": "4817418e-1622-467d-b23c-06cb2b8a87ff",
   "metadata": {},
   "outputs": [],
   "source": [
    "# Validation Data\n",
    "val_dir = dataset_dir / 'val'\n",
    "val_images_dir = val_dir / 'images'\n",
    "val_labels_dir = val_dir / 'labels'"
   ]
  },
  {
   "cell_type": "code",
   "execution_count": 92,
   "id": "21abcbdb-c842-4325-a81e-5a3f8e0ecf8e",
   "metadata": {},
   "outputs": [],
   "source": [
    "# Test Data\n",
    "test_dir = dataset_dir / 'test'\n",
    "test_images_dir = test_dir / 'images'\n",
    "test_labels_dir = test_dir / 'labels'"
   ]
  },
  {
   "cell_type": "code",
   "execution_count": 94,
   "id": "dad17983-eccc-4f5a-a868-12435b2270ad",
   "metadata": {},
   "outputs": [],
   "source": [
    "# Logs\n",
    "logs_dir = project_root / 'logs'"
   ]
  },
  {
   "cell_type": "code",
   "execution_count": 96,
   "id": "820fea8e-db30-4545-9554-987ee7de7eb5",
   "metadata": {},
   "outputs": [],
   "source": [
    "# Models\n",
    "models_dir = project_root / 'models'\n",
    "models_checkpoints_dir = models_dir / 'checkpoints'\n",
    "models_final_dir = models_dir / 'final_models'"
   ]
  },
  {
   "cell_type": "code",
   "execution_count": 98,
   "id": "6d45efa0-41ec-4f4f-8378-caffae815579",
   "metadata": {},
   "outputs": [],
   "source": [
    "# Reports\n",
    "reports_dir = project_root / 'reports'\n",
    "reports_figures_dir = reports_dir / 'figures'\n",
    "reports_images_dir = reports_dir / 'images'\n",
    "reports_tables_dir = reports_dir / 'tables'"
   ]
  },
  {
   "cell_type": "code",
   "execution_count": 100,
   "id": "fcaeda1f-0588-4a45-83d9-9a8bae436223",
   "metadata": {},
   "outputs": [],
   "source": [
    "# Results\n",
    "results_dir = project_root / 'results'\n",
    "results_train_dir = results_dir / 'train'\n",
    "results_val_dir = results_dir / 'val'\n",
    "results_test_dir = results_dir / 'test'\n",
    "results_inference_dir = results_dir / 'inference'"
   ]
  },
  {
   "cell_type": "code",
   "execution_count": 102,
   "id": "3631ed19-c5e1-4f4b-8311-08638c218a1f",
   "metadata": {},
   "outputs": [],
   "source": [
    "# Scripts\n",
    "scripts_dir = project_root / 'scripts'"
   ]
  },
  {
   "cell_type": "code",
   "execution_count": null,
   "id": "d8b896af-80f2-474b-8246-9c2f475dcdf6",
   "metadata": {},
   "outputs": [],
   "source": [
    "###=====================================\n",
    "### Section ~ 4: Create All Directories\n",
    "###====================================="
   ]
  },
  {
   "cell_type": "code",
   "execution_count": 148,
   "id": "180e2626-5c78-4636-ad43-7cc4179ec236",
   "metadata": {},
   "outputs": [
    {
     "name": "stdout",
     "output_type": "stream",
     "text": [
      "\n",
      "📁 Ensuring project directories exist...\n",
      "\n",
      "  - Exists: ..\\Kesari\\config\n",
      "  - Exists: ..\\Kesari\\dataset\\raw\\images\n",
      "  - Exists: ..\\Kesari\\dataset\\raw\\labels\n",
      "  - Exists: ..\\Kesari\\dataset\\train\\raw_images\n",
      "  - Exists: ..\\Kesari\\dataset\\train\\raw_labels\n",
      "  - Exists: ..\\Kesari\\dataset\\train\\aug_images\n",
      "  - Exists: ..\\Kesari\\dataset\\train\\aug_labels\n",
      "  - Exists: ..\\Kesari\\dataset\\val\\images\n",
      "  - Exists: ..\\Kesari\\dataset\\val\\labels\n",
      "  - Exists: ..\\Kesari\\dataset\\test\\images\n",
      "  - Exists: ..\\Kesari\\dataset\\test\\labels\n",
      "  - Exists: ..\\Kesari\\logs\n",
      "  - Exists: ..\\Kesari\\models\\checkpoints\n",
      "  - Exists: ..\\Kesari\\models\\final_models\n",
      "  - Exists: ..\\Kesari\\reports\\figures\n",
      "  - Exists: ..\\Kesari\\reports\\images\n",
      "  - Exists: ..\\Kesari\\reports\\tables\n",
      "  - Exists: ..\\Kesari\\results\\train\n",
      "  - Exists: ..\\Kesari\\results\\val\n",
      "  - Exists: ..\\Kesari\\results\\test\n",
      "  - Exists: ..\\Kesari\\results\\inference\n",
      "  - Exists: ..\\Kesari\\scripts\n",
      "\n",
      "Directory creation and existence check complete.\n"
     ]
    }
   ],
   "source": [
    "# --- Create All Defined Directories ---\n",
    "print(\"\\n📁 Ensuring project directories exist...\\n\")\n",
    "\n",
    "all_dirs = [\n",
    "    config_dir,\n",
    "    raw_image_dir,\n",
    "    raw_label_dir,\n",
    "    train_raw_images_dir,\n",
    "    train_raw_labels_dir,\n",
    "    train_aug_images_dir,\n",
    "    train_aug_labels_dir,\n",
    "    val_images_dir,\n",
    "    val_labels_dir,\n",
    "    test_images_dir,\n",
    "    test_labels_dir,\n",
    "    logs_dir,\n",
    "    models_checkpoints_dir,\n",
    "    models_final_dir,\n",
    "    reports_figures_dir,\n",
    "    reports_images_dir,\n",
    "    reports_tables_dir,\n",
    "    results_train_dir,\n",
    "    results_val_dir,\n",
    "    results_test_dir,\n",
    "    results_inference_dir,\n",
    "    scripts_dir\n",
    "]\n",
    "\n",
    "for d in all_dirs:\n",
    "    d.mkdir(parents=True, exist_ok=True)\n",
    "    if d.exists():\n",
    "        print(f\"  - Exists: {d}\")\n",
    "    else:\n",
    "        print(f\"  - ❌ Failed to create: {d}\")\n",
    "\n",
    "print(\"\\nDirectory creation and existence check complete.\")"
   ]
  },
  {
   "cell_type": "code",
   "execution_count": null,
   "id": "f9ce270c-eae8-4b48-bfba-6a1525da2660",
   "metadata": {},
   "outputs": [],
   "source": [
    "###======================================\n",
    "### Section ~ 5: Generate Directory Tree \n",
    "###======================================"
   ]
  },
  {
   "cell_type": "code",
   "execution_count": 60,
   "id": "78f85417-a39a-4db4-acaf-6820a549d3b2",
   "metadata": {},
   "outputs": [],
   "source": [
    "# --- Directory Structure Visualization ---\n",
    "\n",
    "# This line is crucial for handling potentially incomplete image files,\n",
    "# though it's more relevant for *loading* images than creating them.\n",
    "# It's good practice if you were reading existing, possibly corrupted, images.\n",
    "ImageFile.LOAD_TRUNCATED_IMAGES = True"
   ]
  },
  {
   "cell_type": "code",
   "execution_count": 164,
   "id": "b17719f7-f6ba-4d4a-9688-3919d2a00cde",
   "metadata": {},
   "outputs": [],
   "source": [
    "def get_directory_structure_text(base_dir: Path, level: int = 3):\n",
    "    \"\"\"\n",
    "    Generates a formatted string that visually represents \n",
    "    the directory tree up to a certain depth.\n",
    "    \"\"\"\n",
    "    structure_lines = []\n",
    "    structure_lines.append(f\"{base_dir.name}/\")\n",
    "\n",
    "    for path in sorted(base_dir.rglob('*')):\n",
    "        try:\n",
    "            relative_path = path.relative_to(base_dir)\n",
    "            depth = len(relative_path.parts)\n",
    "            if depth <= level:\n",
    "                spacer = \"    \" * depth\n",
    "                if path.is_dir():\n",
    "                    structure_lines.append(f\"{spacer}├── {path.name}/\")\n",
    "                else:\n",
    "                    structure_lines.append(f\"{spacer}└── {path.name}\")\n",
    "        except ValueError:\n",
    "            pass\n",
    "    return \"\\n\".join(structure_lines)"
   ]
  },
  {
   "cell_type": "code",
   "execution_count": 168,
   "id": "114e590e-7b57-4133-8cc0-a51a9ca2acc2",
   "metadata": {},
   "outputs": [
    {
     "name": "stdout",
     "output_type": "stream",
     "text": [
      "--- Generated Directory Structure ---\n",
      "\n",
      "Kesari/\n",
      "    ├── .ipynb_checkpoints/\n",
      "    ├── config/\n",
      "        └── data.yaml\n",
      "    ├── dataset/\n",
      "        ├── raw/\n",
      "            ├── images/\n",
      "            ├── labels/\n",
      "        ├── test/\n",
      "            ├── images/\n",
      "            ├── labels/\n",
      "        ├── train/\n",
      "            ├── aug_images/\n",
      "            ├── aug_labels/\n",
      "            ├── raw_images/\n",
      "            ├── raw_labels/\n",
      "        ├── val/\n",
      "            ├── images/\n",
      "            ├── labels/\n",
      "    ├── logs/\n",
      "    ├── models/\n",
      "        ├── checkpoints/\n",
      "        ├── final_models/\n",
      "    └── Project_Structure.ipynb\n",
      "    └── README.md\n",
      "    ├── reports/\n",
      "        ├── figures/\n",
      "        ├── images/\n",
      "            └── project_structure.png\n",
      "        └── project_structure.png\n",
      "        ├── tables/\n",
      "    └── requirements.txt\n",
      "    ├── results/\n",
      "        ├── inference/\n",
      "        ├── test/\n",
      "        ├── train/\n",
      "        ├── val/\n",
      "    ├── scripts/\n",
      "        └── Untitled.ipynb\n"
     ]
    }
   ],
   "source": [
    "# Generate and print structure\n",
    "structure_text = get_directory_structure_text(project_root, level=3)\n",
    "print(f\"--- Generated Directory Structure ---\\n\\n{structure_text}\")"
   ]
  },
  {
   "cell_type": "code",
   "execution_count": null,
   "id": "54800bec-8365-467c-b8be-530823a42285",
   "metadata": {},
   "outputs": [],
   "source": [
    "###=======================================\n",
    "### Section ~ 6: Save Directory Structure\n",
    "###======================================="
   ]
  },
  {
   "cell_type": "code",
   "execution_count": 174,
   "id": "7d081253-a7d0-4504-b88f-751480e64509",
   "metadata": {},
   "outputs": [
    {
     "data": {
      "image/png": "[encoded data removed]",
      "text/plain": [
       "<Figure size 1200x800 with 1 Axes>"
      ]
     },
     "metadata": {},
     "output_type": "display_data"
    },
    {
     "name": "stdout",
     "output_type": "stream",
     "text": [
      "\n",
      "✅ Project directory structure image saved to: ..\\Kesari\\reports\\images\\project_structure.png\n"
     ]
    }
   ],
   "source": [
    "output_image_path = reports_images_dir / 'project_structure.png'\n",
    "\n",
    "fig, ax = plt.subplots(figsize=(12, 8))  # Adjust figure size\n",
    "ax.text(0.01, 1.0, structure_text, verticalalignment='top',\n",
    "        fontsize=10, family='monospace', transform=ax.transAxes)\n",
    "ax.axis('off')\n",
    "\n",
    "plt.tight_layout()\n",
    "plt.savefig(output_image_path, bbox_inches='tight', dpi=300)\n",
    "plt.show()\n",
    "\n",
    "print(f\"\\n✅ Project directory structure image saved to: {output_image_path}\")"
   ]
  }
 ],
 "metadata": {
  "kernelspec": {
   "display_name": "Python 3 (ipykernel)",
   "language": "python",
   "name": "python3"
  },
  "language_info": {
   "codemirror_mode": {
    "name": "ipython",
    "version": 3
   },
   "file_extension": ".py",
   "mimetype": "text/x-python",
   "name": "python",
   "nbconvert_exporter": "python",
   "pygments_lexer": "ipython3",
   "version": "3.12.4"
  }
 },
 "nbformat": 4,
 "nbformat_minor": 5
}
